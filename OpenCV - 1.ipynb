{
 "cells": [
  {
   "cell_type": "markdown",
   "metadata": {},
   "source": [
    "# Starting with OpenCV"
   ]
  },
  {
   "cell_type": "markdown",
   "metadata": {},
   "source": [
    "### Reading, writing and displaying images with OpenCV"
   ]
  },
  {
   "cell_type": "code",
   "execution_count": 5,
   "metadata": {},
   "outputs": [],
   "source": [
    "#loading the essential libraries,opencv and numpy respectively\n",
    "\n",
    "import cv2\n",
    "import numpy as np"
   ]
  },
  {
   "cell_type": "code",
   "execution_count": 26,
   "metadata": {},
   "outputs": [],
   "source": [
    "# load an image using imread specifying the path to the image\n",
    "\n",
    "input_img = cv2.imread('./images/input.jpg')\n",
    "\n",
    "# to display this image stored in the variable input_img, we use imshow\n",
    "# the first parameter would be the title as shown on image window\n",
    "# the second paramenter would be the image variable\n",
    "\n",
    "cv2.imshow('Louvre', input)\n",
    "\n",
    "# 'waitKey' allows us to input information when an image window is open\n",
    "# by leaving it blank, it just waits for anykey to be pressed before\n",
    "# continuing. By placing numbers (except 0), we can specify a delay\n",
    "# for how long you keep the window open(time in milliseconds here)\n",
    "\n",
    "#cv2.waitKey(2000)\n",
    "\n",
    "cv2.waitKey()\n",
    "\n",
    "\n",
    "# this command closes all open windows\n",
    "cv2.destroyAllWindows()"
   ]
  },
  {
   "cell_type": "code",
   "execution_count": 7,
   "metadata": {},
   "outputs": [
    {
     "name": "stdout",
     "output_type": "stream",
     "text": [
      "(415, 622, 3)\n"
     ]
    }
   ],
   "source": [
    "# let's see how images are stored\n",
    "\n",
    "print(input_img.shape)"
   ]
  },
  {
   "cell_type": "markdown",
   "metadata": {},
   "source": [
    "### Shape gives the dimensions of the image array\n",
    "\n",
    "The 2D dimensions are 415 by 622 pixels in height and width respectively. The 3 as the last parameter signifies that there are three components, RGB, that make up this image"
   ]
  },
  {
   "cell_type": "markdown",
   "metadata": {},
   "source": [
    "### How do we save images we edit in OpenCV?"
   ]
  },
  {
   "cell_type": "code",
   "execution_count": 8,
   "metadata": {},
   "outputs": [
    {
     "data": {
      "text/plain": [
       "True"
      ]
     },
     "execution_count": 8,
     "metadata": {},
     "output_type": "execute_result"
    }
   ],
   "source": [
    "# We simply use the 'imwrite' function specifying the file name and the\n",
    "# image to be saved\n",
    "\n",
    "cv2.imwrite('output.jpg', input_img)\n",
    "cv2.imwrite('output.png', input_img)"
   ]
  },
  {
   "cell_type": "markdown",
   "metadata": {},
   "source": [
    "## Grayscaling\n",
    "### The process of converting a full color image to shades of gray\n",
    "\n",
    "In OpenCV, many functions compulsorily require images to be in grayscale before processing. This is done to simplify the image, acting almost as noise reduction and increasing processing time as there is less information in the image."
   ]
  },
  {
   "cell_type": "markdown",
   "metadata": {},
   "source": [
    "### Let's convert the color image to GrayScale"
   ]
  },
  {
   "cell_type": "code",
   "execution_count": 10,
   "metadata": {},
   "outputs": [],
   "source": [
    "import cv2\n",
    "\n",
    "input_img = cv2.imread('./images/input.jpg')\n",
    "cv2.imshow('Original RGB', input_img)\n",
    "cv2.waitKey()\n",
    "\n",
    "# We use cvtColor to convert to grayscale\n",
    "\n",
    "gray_img = cv2.cvtColor(input_img, cv2.COLOR_BGR2GRAY)\n",
    "\n",
    "cv2.imshow('Grayscale', gray_img)\n",
    "cv2.waitKey()\n",
    "cv2.destroyAllWindows()"
   ]
  },
  {
   "cell_type": "code",
   "execution_count": 11,
   "metadata": {},
   "outputs": [],
   "source": [
    "# Another method, faster\n",
    "\n",
    "img = cv2.imread('./images/input.jpg', 0)\n",
    "cv2.imshow('grayscaled', img)\n",
    "cv2.waitKey()\n",
    "cv2.destroyAllWindows()"
   ]
  },
  {
   "cell_type": "markdown",
   "metadata": {},
   "source": [
    "## Color Spaces\n",
    "\n",
    "### OpenCV's RGB is BGR\n",
    " \n",
    "Let's look at the shape of the original image array again"
   ]
  },
  {
   "cell_type": "code",
   "execution_count": 13,
   "metadata": {},
   "outputs": [
    {
     "name": "stdout",
     "output_type": "stream",
     "text": [
      "(415, 622, 3)\n"
     ]
    }
   ],
   "source": [
    "print(input_img.shape)"
   ]
  },
  {
   "cell_type": "code",
   "execution_count": 18,
   "metadata": {},
   "outputs": [
    {
     "name": "stdout",
     "output_type": "stream",
     "text": [
      "[13 18 33]\n",
      "13 18 33\n"
     ]
    }
   ],
   "source": [
    "# Let's find the BGR Values for a particular location in the image\n",
    "# i.e., a single pixel\n",
    "\n",
    "print(input_img[5,25])\n",
    "B, G, R = input_img[5,25]\n",
    "print(B, G, R)"
   ]
  },
  {
   "cell_type": "markdown",
   "metadata": {},
   "source": [
    "Let's see what happens when we check the grayscaled image"
   ]
  },
  {
   "cell_type": "code",
   "execution_count": 19,
   "metadata": {},
   "outputs": [
    {
     "name": "stdout",
     "output_type": "stream",
     "text": [
      "(415, 622)\n"
     ]
    }
   ],
   "source": [
    "print(img.shape)"
   ]
  },
  {
   "cell_type": "code",
   "execution_count": 20,
   "metadata": {},
   "outputs": [
    {
     "name": "stdout",
     "output_type": "stream",
     "text": [
      "22\n"
     ]
    }
   ],
   "source": [
    "print(img[5,25])"
   ]
  },
  {
   "cell_type": "markdown",
   "metadata": {},
   "source": [
    "It's now only 2 dimensions. Each pixel coordinate has only one value, with a range of 0 to 255"
   ]
  },
  {
   "cell_type": "markdown",
   "metadata": {},
   "source": [
    "## The HSV Color Space\n",
    "\n",
    "### HSV is very useful in color filtering"
   ]
  },
  {
   "cell_type": "code",
   "execution_count": 22,
   "metadata": {},
   "outputs": [],
   "source": [
    "input_img = cv2.imread('./images/input.jpg')\n",
    "hsv_img = cv2.cvtColor(input_img, cv2.COLOR_BGR2HSV)\n",
    "\n",
    "cv2.imshow('HSV Image', hsv_img)\n",
    "cv2.imshow('Hue Channel', hsv_img[:,:,0])\n",
    "cv2.imshow('Saturation Channel', hsv_img[:,:,1])\n",
    "cv2.imshow('Value/Brightness Channel', hsv_img[:,:,2])\n",
    "\n",
    "cv2.waitKey()\n",
    "cv2.destroyAllWindows()"
   ]
  },
  {
   "cell_type": "code",
   "execution_count": 27,
   "metadata": {},
   "outputs": [
    {
     "name": "stdout",
     "output_type": "stream",
     "text": [
      "This is B image's shape (415, 622)\n"
     ]
    }
   ],
   "source": [
    "## Let's now explore individual channels in an RGB Image\n",
    "\n",
    "image= cv2.imread('./images/input.jpg')\n",
    "B, G, R = cv2.split(image)\n",
    "print('This is B image\\'s shape', B.shape)\n",
    "\n",
    "cv2.imshow('Red', R)\n",
    "cv2.imshow('Blue', B)\n",
    "cv2.imshow('Green', G)\n",
    "\n",
    "cv2.waitKey()\n",
    "cv2.destroyAllWindows()\n",
    "\n",
    "# let's remake the original image,\n",
    "\n",
    "merged = cv2.merge([B, G, R])\n",
    "cv2.imshow('Remade image', merged)\n",
    "\n",
    "merged = cv2.merge([B+100, G, R])\n",
    "cv2.imshow('Remade image with amplified BLUE', merged)\n",
    "cv2.waitKey()\n",
    "cv2.destroyAllWindows()"
   ]
  },
  {
   "cell_type": "markdown",
   "metadata": {},
   "source": [
    "## Histograms are a great way to visualize individual color components"
   ]
  },
  {
   "cell_type": "code",
   "execution_count": 30,
   "metadata": {},
   "outputs": [
    {
     "data": {
      "image/png": "[encoded data removed]",
      "text/plain": [
       "<Figure size 432x288 with 1 Axes>"
      ]
     },
     "metadata": {
      "needs_background": "light"
     },
     "output_type": "display_data"
    },
    {
     "data": {
      "image/png": "[encoded data removed]",
      "text/plain": [
       "<Figure size 432x288 with 1 Axes>"
      ]
     },
     "metadata": {
      "needs_background": "light"
     },
     "output_type": "display_data"
    }
   ],
   "source": [
    "import cv2\n",
    "import numpy as np\n",
    "\n",
    "# We need to import matplotlib to create our histogram plots\n",
    "from matplotlib import pyplot as plt\n",
    "\n",
    "image = cv2.imread('images/input.jpg')\n",
    "\n",
    "histogram = cv2.calcHist([image], [0], None, [256], [0, 256])\n",
    "\n",
    "# We plot a histogram, ravel() flatens our image array \n",
    "plt.hist(image.ravel(), 256, [0, 256]); plt.show()\n",
    "\n",
    "# Viewing Separate Color Channels\n",
    "color = ('b', 'g', 'r')\n",
    "\n",
    "# We now separate the colors and plot each in the Histogram\n",
    "for i, col in enumerate(color):\n",
    "    histogram2 = cv2.calcHist([image], [i], None, [256], [0, 256])\n",
    "    plt.plot(histogram2, color = col)\n",
    "    plt.xlim([0,256])\n",
    "    \n",
    "plt.show()"
   ]
  },
  {
   "cell_type": "markdown",
   "metadata": {},
   "source": [
    "**cv2.calcHist(images, channels, mask, histSize, ranges[, hist[, accumulate]])**\n",
    "\n",
    "- **images**: it is the source image of type uint8 or float32. it should be given in square brackets, ie, \"[img]\".\n",
    "- **channels**: it is also given in square brackets. It is the index of channel for which we calculate histogram. For example, if input is grayscale image, its value is [0]. For color image, you can pass [0], [1] or [2] to calculate histogram of blue, green or red channel respectively.\n",
    "- **mask**: mask image. To find histogram of full image, it is given as \"None\". But if you want to find histogram of particular region of image, you have to create a mask image for that and give it as mask. (I will show an example later.)\n",
    "- **histSize**: this represents our BIN count. Need to be given in square brackets. For full scale, we pass [256].\n",
    "- **ranges** : this is our RANGE. Normally, it is [0,256]."
   ]
  },
  {
   "cell_type": "code",
   "execution_count": 31,
   "metadata": {},
   "outputs": [
    {
     "data": {
      "image/png": "[encoded data removed]",
      "text/plain": [
       "<Figure size 432x288 with 1 Axes>"
      ]
     },
     "metadata": {
      "needs_background": "light"
     },
     "output_type": "display_data"
    },
    {
     "data": {
      "image/png": "[encoded data removed]",
      "text/plain": [
       "<Figure size 432x288 with 1 Axes>"
      ]
     },
     "metadata": {
      "needs_background": "light"
     },
     "output_type": "display_data"
    }
   ],
   "source": [
    "import cv2\n",
    "import numpy as np\n",
    "\n",
    "# We need to import matplotlib to create our histogram plots\n",
    "from matplotlib import pyplot as plt\n",
    "\n",
    "image = cv2.imread('images/tobago.jpg')\n",
    "\n",
    "histogram = cv2.calcHist([image], [0], None, [256], [0, 256])\n",
    "\n",
    "# We plot a histogram, ravel() flatens our image array \n",
    "plt.hist(image.ravel(), 256, [0, 256]); plt.show()\n",
    "\n",
    "# Viewing Separate Color Channels\n",
    "color = ('b', 'g', 'r')\n",
    "\n",
    "# We now separate the colors and plot each in the Histogram\n",
    "for i, col in enumerate(color):\n",
    "    histogram2 = cv2.calcHist([image], [i], None, [256], [0, 256])\n",
    "    plt.plot(histogram2, color = col)\n",
    "    plt.xlim([0,256])\n",
    "    \n",
    "plt.show()"
   ]
  },
  {
   "cell_type": "code",
   "execution_count": 32,
   "metadata": {},
   "outputs": [],
   "source": [
    "image = cv2.imread('images/tobago.jpg')\n",
    "cv2.imshow(\"Tobago\", image)\n",
    "\n",
    "cv2.waitKey()\n",
    "cv2.destroyAllWindows()"
   ]
  },
  {
   "cell_type": "markdown",
   "metadata": {},
   "source": [
    "## Drawing images and shapes using OpenCV\n",
    "\n",
    "Let's start out by making a black square"
   ]
  },
  {
   "cell_type": "code",
   "execution_count": 33,
   "metadata": {},
   "outputs": [],
   "source": [
    "import cv2\n",
    "import numpy as np\n",
    "\n",
    "# Create a black image\n",
    "\n",
    "image = np.zeros((512, 512, 3), np.uint8)\n",
    "\n",
    "# Can we make this in black and white\n",
    "\n",
    "image_bw = np.zeros((512, 512), np.uint8)\n",
    "\n",
    "cv2.imshow('Black rectangle in color', image)\n",
    "cv2.imshow('Black rectangle in B&W', image_bw)\n",
    "\n",
    "cv2.waitKey()\n",
    "cv2.destroyAllWindows()"
   ]
  },
  {
   "cell_type": "markdown",
   "metadata": {},
   "source": [
    "### Let's draw a line over our black square\n",
    "\n",
    "cv2.line(image, starting coordinates, ending coordinates, color, thickness)"
   ]
  },
  {
   "cell_type": "code",
   "execution_count": 34,
   "metadata": {},
   "outputs": [],
   "source": [
    "# Draw a diagonal blue line of thickness 5 pixels\n",
    "\n",
    "image = np.zeros((512, 512, 3), np.uint8)\n",
    "cv2.line(image, (0,0), (511,511), (255,127,0), 5)\n",
    "cv2.imshow('Blue line', image)\n",
    "\n",
    "cv2.waitKey()\n",
    "cv2.destroyAllWindows()"
   ]
  },
  {
   "cell_type": "markdown",
   "metadata": {},
   "source": [
    "### Let's draw a rectangle\n",
    "\n",
    "cv2.rectangle(image, starting vertex, opposite vertex, color, thickness)"
   ]
  },
  {
   "cell_type": "code",
   "execution_count": 36,
   "metadata": {},
   "outputs": [],
   "source": [
    "# Draw a rectangle\n",
    "\n",
    "image = np.zeros((512,512,3), np.uint8)\n",
    "cv2.rectangle(image, (75,150), (450,450), (127,50,127), -1)\n",
    "cv2.imshow('Rectangle', image)\n",
    "cv2.waitKey()\n",
    "cv2.destroyAllWindows()"
   ]
  },
  {
   "cell_type": "markdown",
   "metadata": {},
   "source": [
    "### Let's draw a circle\n",
    "\n",
    "cv2.circle(image, center, radius, color, fill)"
   ]
  },
  {
   "cell_type": "code",
   "execution_count": 37,
   "metadata": {},
   "outputs": [],
   "source": [
    "# Drawing a circle\n",
    "\n",
    "image = np.zeros((512, 512, 3), np.uint8)\n",
    "\n",
    "cv2.circle(image, (150,150), 100, (15, 75, 50), -1)\n",
    "cv2.imshow('Circle', image)\n",
    "cv2.waitKey()\n",
    "cv2.destroyAllWindows()"
   ]
  },
  {
   "cell_type": "markdown",
   "metadata": {},
   "source": [
    "### How about polygons?"
   ]
  },
  {
   "cell_type": "code",
   "execution_count": 38,
   "metadata": {},
   "outputs": [],
   "source": [
    "image = np.zeros((512,512,3), np.uint8)\n",
    "\n",
    "# Let's define the 4 points\n",
    "\n",
    "pts = np.array([[10,50], [400,50], [90,200], [50,500]])\n",
    "\n",
    "# Let's now reshape our points in form required by polylines\n",
    "\n",
    "pts = pts.reshape((-1, 1, 2))\n",
    "\n",
    "cv2.polylines(image, [pts], True, (0, 255, 255), 3)\n",
    "cv2.imshow('Polygon', image)\n",
    "\n",
    "cv2.waitKey()\n",
    "cv2.destroyAllWindows()"
   ]
  },
  {
   "cell_type": "markdown",
   "metadata": {},
   "source": [
    "### Let's even add text with cv2.putText\n",
    "\n",
    "cv2.putText(image, 'Text to Display', bottom left starting point, Font, Font Size, Color, Thickness)\n",
    "\n",
    "- FONT_HERSHEY_SIMPLEX, FONT_HERSHEY_PLAIN\n",
    "- FONT_HERSHEY_DUPLEX,FONT_HERSHEY_COMPLEX \n",
    "- FONT_HERSHEY_TRIPLEX, FONT_HERSHEY_COMPLEX_SMALL\n",
    "- FONT_HERSHEY_SCRIPT_SIMPLEX\n",
    "- FONT_HERSHEY_SCRIPT_COMPLEX"
   ]
  },
  {
   "cell_type": "code",
   "execution_count": 39,
   "metadata": {},
   "outputs": [],
   "source": [
    "image = np.zeros((512,512,3), np.uint8)\n",
    "\n",
    "cv2.putText(image, 'Hello World!', (75, 290), cv2.FONT_HERSHEY_COMPLEX, 2, (100,170,0), 3)\n",
    "cv2.imshow('Hello World', image)\n",
    "\n",
    "cv2.waitKey()\n",
    "cv2.destroyAllWindows()"
   ]
  },
  {
   "cell_type": "code",
   "execution_count": 40,
   "metadata": {},
   "outputs": [],
   "source": [
    "# END OF THE FIRST NOTEBOOK"
   ]
  },
  {
   "cell_type": "markdown",
   "metadata": {},
   "source": [
    "**Authored by bosecodes**"
   ]
  },
  {
   "cell_type": "code",
   "execution_count": null,
   "metadata": {},
   "outputs": [],
   "source": []
  },
  {
   "cell_type": "code",
   "execution_count": null,
   "metadata": {},
   "outputs": [],
   "source": []
  }
 ],
 "metadata": {
  "kernelspec": {
   "display_name": "Python 3",
   "language": "python",
   "name": "python3"
  },
  "language_info": {
   "codemirror_mode": {
    "name": "ipython",
    "version": 3
   },
   "file_extension": ".py",
   "mimetype": "text/x-python",
   "name": "python",
   "nbconvert_exporter": "python",
   "pygments_lexer": "ipython3",
   "version": "3.7.4"
  }
 },
 "nbformat": 4,
 "nbformat_minor": 2
}
